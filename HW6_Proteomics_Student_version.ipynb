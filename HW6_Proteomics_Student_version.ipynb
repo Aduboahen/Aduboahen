{
  "nbformat": 4,
  "nbformat_minor": 0,
  "metadata": {
    "colab": {
      "name": "HW6 - Proteomics - Student version",
      "provenance": [],
      "collapsed_sections": [],
      "include_colab_link": true
    },
    "kernelspec": {
      "name": "python3",
      "display_name": "Python 3"
    }
  },
  "cells": [
    {
      "cell_type": "markdown",
      "metadata": {
        "id": "view-in-github",
        "colab_type": "text"
      },
      "source": [
        "<a href=\"https://colab.research.google.com/github/Aduboahen/Aduboahen/blob/main/HW6_Proteomics_Student_version.ipynb\" target=\"_parent\"><img src=\"https://colab.research.google.com/assets/colab-badge.svg\" alt=\"Open In Colab\"/></a>"
      ]
    },
    {
      "cell_type": "markdown",
      "metadata": {
        "id": "V5ub-kn78pH6"
      },
      "source": [
        "# **Homework 6 - Proteomics**\n",
        "The purpose of this homework is to teach you how to identify significantly differential protein abundances and how to identify significant correlation between proteins.\n",
        "\n",
        "License: This document is open source under [CC BY-ND 4.0](https://en.wikipedia.org/wiki/Creative_Commons_license)."
      ]
    },
    {
      "cell_type": "markdown",
      "metadata": {
        "id": "rJ8gHJ3aT59b"
      },
      "source": [
        "# **Completing the Assignment**\n",
        "\n",
        "This notebook is your homework #6. To complete the homework and receive credit, you need to work through all 5 sections. Within each thematic section is a mix of explanatory text cells and code cells. Some code cells have code written for you; some ask you to write code. At the end of each section are 'Practice Problems'. You should write code to answer the questions - following the directions given. Once you are ready to submit your answer, run the submission code block below every question block. If you get a question wrong, fix your code and try again. If you get stumped, ask for a hint using the hint code block below each submission code block. This homework also has several sections of code that might take a few minutes. \n",
        "\n",
        "Your first step will be to save this notebook as a copy so that you can edit it. (File->Save a copy in Drive).\n",
        "\n",
        "Have fun."
      ]
    },
    {
      "cell_type": "markdown",
      "metadata": {
        "id": "Snvm2_6nPC5x"
      },
      "source": [
        "# **Learning Outcomes**\n",
        "#### Biological \n",
        "\n",
        "*   Evaluate utility of protein coexpression networks based on agreement with known protein interaction networks.\n",
        "\n",
        "#### Computational\n",
        "\n",
        "*   Perform correlation analysis.\n",
        "*   Create network visualization.\n",
        "*   Access UniProt knowledgebase using API."
      ]
    },
    {
      "cell_type": "markdown",
      "metadata": {
        "id": "YFteMT2qCuo5"
      },
      "source": [
        "# **Topics and Background Reading**\n",
        "\n",
        "[Proteomics](https://en.wikipedia.org/wiki/Proteomics) is the comprehensive measurement of protein abundance. Proteins are the dominant functional molecule in cellular life. Proteins are the structural support of a cell (i.e. the cytoskeleton); proteins perform metabolic conversion and control energy flow in a cell; and proteins sense the environment and generate signals to trigger a response to the environment. \n",
        "\n",
        "In our cancer datasets, we typically get an abundance measurement for more than 10,000 proteins in each tumor sample. The majority of proteomics measurements are obtained via [mass spectrometry](https://en.wikipedia.org/wiki/Mass_spectrometry). In our dataset, the quantitative measurement is a relative abundance, meaning we ask the question, \"Does a sample have more/less of a protein than the 'average' sample?\" More detail on this is given below. First, let's read some manuscripts about the data generation and statistical challenges in the field.\n",
        "\n",
        "* [Aebersold 2003](https://pubmed.ncbi.nlm.nih.gov/12634793/)\n",
        "* [Nesvizhskii 2005](https://pubmed.ncbi.nlm.nih.gov/16009968/)\n",
        "* [Piazza 2018](https://pubmed.ncbi.nlm.nih.gov/29307493/)\n",
        "* [Dou 2020](https://pubmed.ncbi.nlm.nih.gov/32059776/)"
      ]
    },
    {
      "cell_type": "markdown",
      "metadata": {
        "id": "_OWxBE1LpLUr"
      },
      "source": [
        "# Part 1. Setup\n"
      ]
    },
    {
      "cell_type": "markdown",
      "metadata": {
        "id": "J5vVhexHH8mk"
      },
      "source": [
        "First we need to install and import the cptac and biograder packages along with a few other packages."
      ]
    },
    {
      "cell_type": "code",
      "metadata": {
        "id": "K9BpQUatp13l"
      },
      "source": [
        "!pip install cptac\n",
        "!pip install biograder"
      ],
      "execution_count": null,
      "outputs": []
    },
    {
      "cell_type": "markdown",
      "metadata": {
        "id": "X6QRVrtgTszE"
      },
      "source": [
        "We will be working with three similar cancer cohorts in this homework. Examples will be shown to you with the lung adenocarcinoma (LUAD) cohort. Afterwards some questions will ask you to perform analyses on the lung squamous cell carcinoma (LSCC) cohort and the head/neck squamous cell carcinoma (HNSCC) cohort for comparision. "
      ]
    },
    {
      "cell_type": "code",
      "metadata": {
        "id": "SlpeAE5ip21C"
      },
      "source": [
        "#Be patient, this may take a few minutes depending on your internet connection.\n",
        "import cptac\n",
        "\n",
        "cptac.download('luad')\n",
        "lu = cptac.Luad()\n",
        "cptac.download('lscc')\n",
        "ls = cptac.Lscc()\n",
        "cptac.download('hnscc')\n",
        "hn = cptac.Hnscc()"
      ],
      "execution_count": null,
      "outputs": []
    },
    {
      "cell_type": "markdown",
      "metadata": {
        "id": "Sb_69qDpphA7"
      },
      "source": [
        "We have to import a couple more packages that we will used throughout the homework."
      ]
    },
    {
      "cell_type": "code",
      "metadata": {
        "id": "7pT7x_30gOD4"
      },
      "source": [
        "import seaborn as sns\n",
        "import matplotlib.pyplot as plt\n",
        "import scipy.stats as stats\n",
        "import pandas as pd\n",
        "import numpy as np\n",
        "import statistics"
      ],
      "execution_count": null,
      "outputs": []
    },
    {
      "cell_type": "markdown",
      "metadata": {
        "id": "gkJ4G64aUHRE"
      },
      "source": [
        "Lastly, we need to get the homework autograder. This will have the same steps of server install, importing and object creation."
      ]
    },
    {
      "cell_type": "code",
      "metadata": {
        "id": "qPZPGiYhUJ0D"
      },
      "source": [
        "import biograder\n",
        "#The proteomics homework is #6\n",
        "biograder.download(\"bio462_hw6\")\n",
        "myID = \"Place_Your_ID_Here\" #Your student id, or 'temp'\n",
        "hw = biograder.bio462_hw6(student_id = myID) #Instantiate the homework grader object."
      ],
      "execution_count": null,
      "outputs": []
    },
    {
      "cell_type": "markdown",
      "metadata": {
        "id": "i3nEzhqD7HHb"
      },
      "source": [
        "For this lesson we need to get the joined clinical and proteomics dataframe for tumor and normal tissue from the LUAD cohort."
      ]
    },
    {
      "cell_type": "code",
      "metadata": {
        "id": "51gf_WxX66Co"
      },
      "source": [
        "import cptac.utils as ut\n",
        "\n",
        "lu_clin_prot = lu.join_metadata_to_omics(metadata_df_name='clinical', \n",
        "  omics_df_name='proteomics', \n",
        "  metadata_cols = [\"Sample_Tumor_Normal\"])\n",
        "#Some functions require that we drop the Database_ID column. \n",
        "luad_no_id = ut.reduce_multiindex(df=lu_clin_prot, levels_to_drop=\"Database_ID\")\n",
        "luad_no_id"
      ],
      "execution_count": null,
      "outputs": []
    },
    {
      "cell_type": "markdown",
      "metadata": {
        "id": "x-F2y3uJdbj3"
      },
      "source": [
        "# Part 2. Protein Correlation"
      ]
    },
    {
      "cell_type": "markdown",
      "metadata": {
        "id": "qW3vAn-jdE6O"
      },
      "source": [
        "In HW5 we learned about differential expression, what transcripts are changing between conditions. In this lesson we learn about how to assess which proteins are changing in a similar way. This is sometimes called co-expression analysis. Today we'll call this correlation, because that is evocative of the statistical test."
      ]
    },
    {
      "cell_type": "markdown",
      "metadata": {
        "id": "aOXWqw5oM5D-"
      },
      "source": [
        "Linear regression can help us determine how a change in abundance for one protein might predict the abundance of another protein.\n",
        "We can create a scatterplot with seaborn in order to measure the linear regression between two ribosomal proteins known as RPS13 and RPS11. "
      ]
    },
    {
      "cell_type": "code",
      "metadata": {
        "id": "BDqxFMfHVIBD"
      },
      "source": [
        "from scipy.stats import linregress\n",
        "tumor_type = lu_clin_prot.loc[lu_clin_prot['Sample_Tumor_Normal'] == 'Tumor']\n",
        "plot = sns.regplot(x=tumor_type['RPS13_proteomics'], y=tumor_type['RPS11_proteomics'])\n",
        "plt.xlabel('RPS13',fontsize=16)\n",
        "plt.ylabel('RPS11',fontsize=16)\n",
        "plot_results = linregress(plot.get_lines()[0].get_xdata(),plot.get_lines()[0].get_ydata())\n",
        "print('slope =', round(plot_results[0],5),'y-intercept =', round(plot_results[1],5))"
      ],
      "execution_count": null,
      "outputs": []
    },
    {
      "cell_type": "markdown",
      "metadata": {
        "id": "pEYi9NeqfnFc"
      },
      "source": [
        "Linear regression is a way to build a prediction formula, given proteinX I can predit the value of proteinY. That comes from the slope and y-intercept you see printed above. "
      ]
    },
    {
      "cell_type": "markdown",
      "metadata": {
        "id": "Q-w2Sd0JhiV8"
      },
      "source": [
        "Correlation is not a prediction method, but just a measure of how similar the abundance patterns of the two proteins is. This is done using pearsonr() from the scipy.stats package which uses the [Pearson method](https://en.wikipedia.org/wiki/Pearson_correlation_coefficient). In the code below, we call the function and print out both the correlation coefficient and p-value. "
      ]
    },
    {
      "cell_type": "code",
      "metadata": {
        "id": "vf-eOWAKuwwO"
      },
      "source": [
        "corr,pval = stats.pearsonr(luad_no_id['RPS13_proteomics'], luad_no_id['RPS11_proteomics'])\n",
        "print(\"Correlation:\", corr, \"\\nP-value:\", pval)"
      ],
      "execution_count": null,
      "outputs": []
    },
    {
      "cell_type": "markdown",
      "metadata": {
        "id": "p3FW9j-DhrqZ"
      },
      "source": [
        "We can see that the correlation coefficient is 0.83 which indicates a strong positive linear correlation between RPS13 and RPS11. The p-value of 6.11e-57 tells us that this correlation is statistically significant. These two ribosomal proteins physically interact and make up part of the small subunit of a ribosome. So it makes sense that their protein abundance would be highly correlated.\n",
        "\n",
        "Now you try. Calculate the correlation coefficients for two other genes: PTEN and CDC27."
      ]
    },
    {
      "cell_type": "code",
      "metadata": {
        "id": "5bVRMMkhIBAd"
      },
      "source": [
        "#Get the correlation coefficient for PTEN and CDC27.\n",
        "##  Your code here  ##\n"
      ],
      "execution_count": null,
      "outputs": []
    },
    {
      "cell_type": "markdown",
      "metadata": {
        "id": "hKieA9ZmI980"
      },
      "source": [
        "As you can see, PTEN and CDC27 have a negative correlation coefficient and a p-value < 0.05. Think about what that means for their interaction."
      ]
    },
    {
      "cell_type": "markdown",
      "metadata": {
        "id": "OPRX5-pRiYIp"
      },
      "source": [
        "We want to get the correlation coefficient between every protein within the entire proteomics dataframe. To do this we use the .corr() function. As you investigate this, note that the resulting dataframe only has correlation coefficients and not p-values. The .corr() function only computes that; it does not compute p-values."
      ]
    },
    {
      "cell_type": "code",
      "metadata": {
        "id": "XS3vwYsNrjuI"
      },
      "source": [
        "#Be patient, this may take a minute depending on your internet connection. \n",
        "lu_proteomics = lu.get_proteomics()\n",
        "lu_prot_no_id = ut.reduce_multiindex(df=lu_proteomics, levels_to_drop=\"Database_ID\")\n",
        "lu_correlation = lu_prot_no_id.corr(method='pearson')\n",
        "lu_correlation.head(50)"
      ],
      "execution_count": null,
      "outputs": []
    },
    {
      "cell_type": "markdown",
      "metadata": {
        "id": "SEQV17FXzEHn"
      },
      "source": [
        "###Note for Practice Problems\n",
        "\n",
        "Computing a correlation in a dataframe with df.corr() is rather quick. Doing the same with scipy.stats.pearsonr() would be a lot slower because it is calculating the correlation coefficient along with the p-value - and calculating the p-value is slow if you're doing it a million times in our large df. \n",
        "\n",
        "For efficiency in this homework, we have decided to use <-0.3 and >0.3 as the critical value for a 'significant' correlation. It's a reasonable assumption based on our experience with this dataset. But we note that it is not a strictly 'statistical' cutoff. Also in this homework, a strong correlation is <-0.6 and >0.6. In the real world, calculating and using the p-value would be necessary. Here we're just trying to save ~30-60 minutes of CPU thrashing. "
      ]
    },
    {
      "cell_type": "markdown",
      "metadata": {
        "id": "ubYicGobhN-w"
      },
      "source": [
        "##PRACTICE PROBLEMS\n",
        "1. For MSH2 in the LUAD correlation data, which protein has the highest correlation coefficient?"
      ]
    },
    {
      "cell_type": "code",
      "metadata": {
        "id": "JmJJhYap3q1L"
      },
      "source": [
        "###       Question 1         ###\n",
        "#  For MSH2 in the LUAD correlation data, which protein has the highest correlation coefficient?\n",
        "#  You should derive your answer with coding, not any shortcuts.\n",
        "\n",
        "###      Your code here      ###\n"
      ],
      "execution_count": null,
      "outputs": []
    },
    {
      "cell_type": "code",
      "metadata": {
        "id": "4qJIALJJGRQI"
      },
      "source": [
        "###  Question 1: Submitting the answer   ###\n",
        "# To submit, your code above should have created a variable 'answer_1'. \n",
        "result = hw.submit(question = 1, answer = answer_1)\n",
        "print(result)"
      ],
      "execution_count": null,
      "outputs": []
    },
    {
      "cell_type": "code",
      "metadata": {
        "id": "lHrEXAK2GViG"
      },
      "source": [
        "### Question 1: Getting help ###\n",
        "hints = hw.getHint(question=1)\n",
        "print(hints)"
      ],
      "execution_count": null,
      "outputs": []
    },
    {
      "cell_type": "markdown",
      "metadata": {
        "id": "LjukTRPuLhwE"
      },
      "source": [
        "2. How many proteins have a positive correlation with TP53 in all of the following tumor types: LUAD, LSCC, HNSCC?"
      ]
    },
    {
      "cell_type": "code",
      "metadata": {
        "id": "QU4B6tpx3qTi"
      },
      "source": [
        "###       Question 2         ###\n",
        "#  How many proteins have a positive correlation with TP53 in all of the following tumor types: LUAD, LSCC, HNSCC?\n",
        "#  Your answer should be in the format \"cancer_# of proteins\".\n",
        "#  Each cancer should be in alphabetical order and separated by a comma and a space.\n",
        "#  e.g. HNSCC_4209, LSCC_2384,...\n",
        "#  You should derive your answer with coding, not any shortcuts.\n",
        "\n",
        "###      Your code here      ###\n"
      ],
      "execution_count": null,
      "outputs": []
    },
    {
      "cell_type": "code",
      "metadata": {
        "id": "kxWwFSfvGykB"
      },
      "source": [
        "###  Question 2: Submitting the answer   ###\n",
        "# To submit, your code above should have created a variable 'answer_2'. \n",
        "result = hw.submit(question = 2, answer = answer_2)\n",
        "print(result)"
      ],
      "execution_count": null,
      "outputs": []
    },
    {
      "cell_type": "code",
      "metadata": {
        "id": "xjojLSqYG4vK"
      },
      "source": [
        "### Question 2: Getting help ###\n",
        "hints = hw.getHint(question=2)\n",
        "print(hints)"
      ],
      "execution_count": null,
      "outputs": []
    },
    {
      "cell_type": "markdown",
      "metadata": {
        "id": "DqgwePJQpjVK"
      },
      "source": [
        "# Part 3. Correlation Networks"
      ]
    },
    {
      "cell_type": "markdown",
      "metadata": {
        "id": "CCt6PBv4JN5n"
      },
      "source": [
        "There is a great visual map called a correlation or [co-expression network](https://en.wikipedia.org/wiki/Gene_co-expression_network), where we can see the similarity of protein abundance based on their correlation coefficients. If we made one with our complete correlation network, it would use so much RAM that it would crash our colab; It would look something like this."
      ]
    },
    {
      "cell_type": "markdown",
      "metadata": {
        "id": "ZQ2qfAYtHEUq"
      },
      "source": [
        "![Screen Shot 2021-04-08 at 12.31.42 PM.png](data:image/png;base64,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)"
      ]
    },
    {
      "cell_type": "markdown",
      "metadata": {
        "id": "ZnOLXV5bqPFe"
      },
      "source": [
        "This is called a hairball and it is not good. We can't learn anything from this network! It would be much better to look at a few genes and their interactions. Let's look at our ribosomal proteins, RPS13 and RPS11, since we know they are highly correlated."
      ]
    },
    {
      "cell_type": "code",
      "metadata": {
        "id": "cOQ35-Gy-LaP"
      },
      "source": [
        "#Get the correlation between RPS13 and RPS11.\n",
        "rps_interactions = lu_correlation[['RPS13', 'RPS11']]\n",
        "rps_interactions.columns.name = 'gene1'\n",
        "rps_interactions.index.name = 'gene2'\n",
        "rps_links = rps_interactions.stack().reset_index()\n",
        "rps_links.columns = ['gene1', 'gene2', 'value']\n",
        "\n",
        "print(rps_links)"
      ],
      "execution_count": null,
      "outputs": []
    },
    {
      "cell_type": "code",
      "metadata": {
        "id": "fM3o0jFr9vRt"
      },
      "source": [
        "import networkx as nx\n",
        "#Keep only correlation over a threshold and remove self correlation (cor(A,A)=1).\n",
        "rps_links_filtered=rps_links.loc[(rps_links['value'] > 0.6) & (rps_links['gene1'] != rps_links['gene2'])]\n",
        " \n",
        "#Build your graph.\n",
        "rps_G=nx.from_pandas_edgelist(rps_links_filtered, 'gene1', 'gene2')\n",
        " \n",
        "#Plot the network.\n",
        "nx.draw(rps_G, with_labels=True, node_color='orange', node_size=1000, edge_color='black', linewidths=1, font_size=10)\n"
      ],
      "execution_count": null,
      "outputs": []
    },
    {
      "cell_type": "markdown",
      "metadata": {
        "id": "YChf23WWSKWf"
      },
      "source": [
        "In the middle of this image is a tightly clustered group of proteins from the ribosome. You can spot them by their names 'RPL#' and 'RPS#', including RPS11 and RPS13. This bunch is highly connected with each other. At the edge of the image you also see a cresent moon shaped group of proteins that are only connected to RPS11, and not the rest of the network. This points to a distinct function of RPS11. \n",
        "\n",
        "Let's look at PTEN and CDC27 to see the type of correlation network they have."
      ]
    },
    {
      "cell_type": "code",
      "metadata": {
        "id": "fAaWTY-oLsaP"
      },
      "source": [
        "#Make a correlation network with PTEN and CDC27.\n",
        "###   Your code here  ###\n"
      ],
      "execution_count": null,
      "outputs": []
    },
    {
      "cell_type": "markdown",
      "metadata": {
        "id": "9cjocfHvTclQ"
      },
      "source": [
        "So, different.\\\n",
        "PTEN and CDC27 are each isolated on their own small network. Their correlation coefficient was negative, so it was unlikely that they had a lot in common. "
      ]
    },
    {
      "cell_type": "markdown",
      "metadata": {
        "id": "bAnegARZzysF"
      },
      "source": [
        "## PRACTICE PROBLEMS\n",
        "\n",
        "3. In the breast cancer cohort, how many proteins have a significant positive correlation with ERBB2 in stage III?"
      ]
    },
    {
      "cell_type": "code",
      "metadata": {
        "id": "LfQXDRFF3vWe"
      },
      "source": [
        "###       Question 3         ###\n",
        "#  In the breast cancer cohort, how many proteins have a significant positive correlation with ERBB2 in stage III?\n",
        "#  You should derive your answer with coding, not any shortcuts.\n",
        "\n",
        "###      Your code here      ###\n",
        "# HINT. to access breast cancer data, use - \n",
        "cptac.download('brca')\n",
        "br = cptac.Brca()\n"
      ],
      "execution_count": null,
      "outputs": []
    },
    {
      "cell_type": "code",
      "metadata": {
        "id": "Y3pnLZUEIv0A"
      },
      "source": [
        "###  Question 3: Submitting the answer   ###\n",
        "# To submit, your code above should have created a variable 'answer_3'. \n",
        "result = hw.submit(question = 3, answer = answer_3)\n",
        "print(result)"
      ],
      "execution_count": null,
      "outputs": []
    },
    {
      "cell_type": "code",
      "metadata": {
        "id": "_Ilpeu8nIyNg"
      },
      "source": [
        "### Question 3: Getting help ###\n",
        "hints = hw.getHint(question=3)\n",
        "print(hints)"
      ],
      "execution_count": null,
      "outputs": []
    },
    {
      "cell_type": "markdown",
      "metadata": {
        "id": "fHFEobHyLnSW"
      },
      "source": [
        "4. In the breast cancer cohort, how many proteins have a significant positive correlation with ERBB2 in stage II?"
      ]
    },
    {
      "cell_type": "code",
      "metadata": {
        "id": "AGyyNUXe3xno"
      },
      "source": [
        "###       Question 4         ###\n",
        "#  In the breast cancer cohort, how many proteins have a significant positive correlation with ERBB2 in stage II?\n",
        "#  You should derive your answer with coding, not any shortcuts.\n",
        "\n",
        "###      Your code here      ###\n"
      ],
      "execution_count": null,
      "outputs": []
    },
    {
      "cell_type": "code",
      "metadata": {
        "id": "kT2KsuO9I4xh"
      },
      "source": [
        "###  Question 4: Submitting the answer   ###\n",
        "# To submit, your code above should have created a variable 'answer_4'. \n",
        "result = hw.submit(question = 4, answer = answer_4)\n",
        "print(result)"
      ],
      "execution_count": null,
      "outputs": []
    },
    {
      "cell_type": "code",
      "metadata": {
        "id": "yfbKBERYI7ns"
      },
      "source": [
        "### Question 4: Getting help ###\n",
        "hints = hw.getHint(question=4)\n",
        "print(hints)"
      ],
      "execution_count": null,
      "outputs": []
    },
    {
      "cell_type": "markdown",
      "metadata": {
        "id": "oikUIcXnLsp2"
      },
      "source": [
        "5. In the LUAD cohort, we previously made an interaction network with RPS11 that included the ribosome and associated translational machinery. Which proteins have a highly negative interaction with RPS11?"
      ]
    },
    {
      "cell_type": "code",
      "metadata": {
        "id": "FZhS8pfS3xae"
      },
      "source": [
        "###       Question 5         ###\n",
        "#  In the LUAD cohort, we previously made an interaction network with RPS11 that included the ribosome and associated translational machinery. \n",
        "#  Which proteins have a highly negative interaction with RPS11?\n",
        "#  Your answer should be a string with each protein separated by a comma and a space in alphabetical order.\n",
        "#  You should derive your answer with coding, not any shortcuts.\n",
        "\n",
        "###      Your code here      ###\n"
      ],
      "execution_count": null,
      "outputs": []
    },
    {
      "cell_type": "code",
      "metadata": {
        "id": "Gj9LdlwhJHu1"
      },
      "source": [
        "###  Question 5: Submitting the answer   ###\n",
        "# To submit, your code above should have created a variable 'answer_5'. \n",
        "result = hw.submit(question = 5, answer = answer_5)\n",
        "print(result)"
      ],
      "execution_count": null,
      "outputs": []
    },
    {
      "cell_type": "code",
      "metadata": {
        "id": "awgbKdzmJJ0c"
      },
      "source": [
        "### Question 5: Getting help ###\n",
        "hints = hw.getHint(question=5)\n",
        "print(hints)"
      ],
      "execution_count": null,
      "outputs": []
    },
    {
      "cell_type": "markdown",
      "metadata": {
        "id": "qvvnJgU5dlSn"
      },
      "source": [
        "# Part 4. Interactions"
      ]
    },
    {
      "cell_type": "markdown",
      "metadata": {
        "id": "zZMKBbbsJSF2"
      },
      "source": [
        "It is now important to compare the results we have found to the known interactions in UniProt."
      ]
    },
    {
      "cell_type": "code",
      "metadata": {
        "id": "iN0lv6HyFwUy"
      },
      "source": [
        "import urllib.parse\n",
        "import urllib.request\n",
        "\n",
        "url = 'https://www.uniprot.org/uniprot/'\n",
        "\n",
        "params = {\n",
        "    'format': 'list',\n",
        "    'query': 'gene_exact:pten AND organism:homo_sapiens AND reviewed:yes'\n",
        "}\n",
        "\n",
        "data = urllib.parse.urlencode(params)\n",
        "data = data.encode('utf-8')\n",
        "req = urllib.request.Request(url, data)\n",
        "f = urllib.request.urlopen(req)\n",
        "response = f.read()\n",
        "pten_accession = (response.decode('utf-8')).rstrip()\n",
        "print(pten_accession)"
      ],
      "execution_count": null,
      "outputs": []
    },
    {
      "cell_type": "code",
      "metadata": {
        "id": "Wv9-w746GVUW"
      },
      "source": [
        "import requests\n",
        "interactions_response = requests.get('https://www.ebi.ac.uk/proteins/api/proteins/interaction/' + pten_accession)\n",
        "print(type(interactions_response))\n",
        "print(interactions_response.text)"
      ],
      "execution_count": null,
      "outputs": []
    },
    {
      "cell_type": "code",
      "metadata": {
        "id": "OKc7BCF7Rm7T"
      },
      "source": [
        "#the python library to help with JSON objects\n",
        "import json\n",
        "json_var_dictionary = json.loads(interactions_response.text)\n",
        "json_var_dictionary #look at the information provided in this dictionary and try to understand the output"
      ],
      "execution_count": null,
      "outputs": []
    },
    {
      "cell_type": "code",
      "metadata": {
        "id": "fjmzY3Bqo1-y"
      },
      "source": [
        "#Select out the genes for humans from json_var_dictionary that interact with PTEN and put them in an array.\n",
        "###   Your code here  ###   \n"
      ],
      "execution_count": null,
      "outputs": []
    },
    {
      "cell_type": "markdown",
      "metadata": {
        "id": "4J6ex0xr0AH_"
      },
      "source": [
        "It is interesting to look at the interactions that have been found with the PTEN gene. If you notice, CDC27 is on the list of interacting proteins, when we earlier found they had no interaction based on their correlation network. This gives an interesting problem in the world of bioinformatics. You can do a lot of different analyses, but even if you have found something, that does not mean it's completely true or relevant. There can also be factors that are hard to recognize. It could be that the genes correlate regularly, but correlate differently in cancerous tissue. This is a good start to understanding protein-protein interactions, but there is much more to be considered and studied before we get the full picture of cancer."
      ]
    },
    {
      "cell_type": "markdown",
      "metadata": {
        "id": "Y4LLfizJz1DR"
      },
      "source": [
        "## PRACTICE PROBLEM\n",
        "\n",
        "6. Which one of the interacting proteins with PTEN from UniProt shows the highest correlation in our LUAD correlation dataframe, excluding its correlation with itself?"
      ]
    },
    {
      "cell_type": "code",
      "metadata": {
        "id": "VsQzEWRv328b"
      },
      "source": [
        "###       Question 6         ###\n",
        "#  Which one of the interacting proteins with PTEN from UniProt shows the highest correlation in our LUAD correlation \n",
        "#  dataframe, excluding its correlation with itself?\n",
        "#  Your answer should be in the format \"gene:correlation value\" with the value rounded to 3 decimal places.\n",
        "#  e.g DBN1:0.736\n",
        "#  You should derive your answer with coding, not any shortcuts.\n",
        "\n",
        "###      Your code here      ###\n"
      ],
      "execution_count": null,
      "outputs": []
    },
    {
      "cell_type": "code",
      "metadata": {
        "id": "MrUYoSHSKKQV"
      },
      "source": [
        "###  Question 6: Submitting the answer   ###\n",
        "# To submit, your code above should have created a variable 'answer_6'. \n",
        "result = hw.submit(question = 6, answer = answer_6)\n",
        "print(result)"
      ],
      "execution_count": null,
      "outputs": []
    },
    {
      "cell_type": "code",
      "metadata": {
        "id": "yvL7W4W4KMll"
      },
      "source": [
        "### Question 6: Getting help ###\n",
        "hints = hw.getHint(question=6)\n",
        "print(hints)"
      ],
      "execution_count": null,
      "outputs": []
    },
    {
      "cell_type": "markdown",
      "metadata": {
        "id": "-YX3Vdgfkfer"
      },
      "source": [
        "# Part 5. Turn it in\n",
        "**Congrats!**\n",
        "\n",
        "Now that you have finished the assignment, use the endSession command to report your score. Once you have completed the notebook, please share it with your instructor."
      ]
    },
    {
      "cell_type": "code",
      "metadata": {
        "id": "uaAOZMfqkgYK"
      },
      "source": [
        "hw.endSession()"
      ],
      "execution_count": null,
      "outputs": []
    }
  ]
}